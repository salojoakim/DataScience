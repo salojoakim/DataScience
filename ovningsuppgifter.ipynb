{
 "cells": [
  {
   "cell_type": "code",
   "execution_count": 5,
   "id": "f9fbb98b-ece3-49c1-a541-5ff51ee335f1",
   "metadata": {},
   "outputs": [
    {
     "name": "stdout",
     "output_type": "stream",
     "text": [
      "5\n"
     ]
    }
   ],
   "source": []
  },
  {
   "cell_type": "code",
   "execution_count": 7,
   "id": "8a19adab-ef45-4b17-b2a3-49505fa1ce05",
   "metadata": {},
   "outputs": [
    {
     "name": "stdout",
     "output_type": "stream",
     "text": [
      "15\n"
     ]
    }
   ],
   "source": [
    "my_mult_result= num_1 * num_2\n",
    "\n",
    "print(my_mult_result)"
   ]
  },
  {
   "cell_type": "code",
   "execution_count": 29,
   "id": "5ef1cc20-a955-43e0-9a34-339e396c192d",
   "metadata": {},
   "outputs": [
    {
     "data": {
      "text/plain": [
       "1"
      ]
     },
     "execution_count": 29,
     "metadata": {},
     "output_type": "execute_result"
    }
   ],
   "source": [
    "10 % 3"
   ]
  },
  {
   "cell_type": "code",
   "execution_count": 31,
   "id": "8a801567-ef9d-4977-8be6-dc10a298e374",
   "metadata": {},
   "outputs": [
    {
     "data": {
      "text/plain": [
       "4"
      ]
     },
     "execution_count": 31,
     "metadata": {},
     "output_type": "execute_result"
    }
   ],
   "source": [
    "27//6"
   ]
  },
  {
   "cell_type": "code",
   "execution_count": 33,
   "id": "e867bf57-9255-4f75-8031-cf81998a848d",
   "metadata": {},
   "outputs": [
    {
     "data": {
      "text/plain": [
       "4.5"
      ]
     },
     "execution_count": 33,
     "metadata": {},
     "output_type": "execute_result"
    }
   ],
   "source": [
    "27/6"
   ]
  },
  {
   "cell_type": "code",
   "execution_count": 17,
   "id": "0f5c5a48-2bdd-45af-9815-cdde9feda8a2",
   "metadata": {},
   "outputs": [
    {
     "name": "stdout",
     "output_type": "stream",
     "text": [
      "it's fun to learn Python!\n"
     ]
    }
   ],
   "source": [
    "print(\"it's fun to learn Python!\")"
   ]
  },
  {
   "cell_type": "code",
   "execution_count": 21,
   "id": "8a4a32a5-c500-4f47-824b-5667ca9a7524",
   "metadata": {},
   "outputs": [
    {
     "name": "stdout",
     "output_type": "stream",
     "text": [
      "hahaha\n"
     ]
    }
   ],
   "source": [
    "print(\"ha\"*3)"
   ]
  },
  {
   "cell_type": "code",
   "execution_count": 27,
   "id": "b2044a81-069f-45c2-95bb-a295b17a359d",
   "metadata": {},
   "outputs": [
    {
     "data": {
      "text/plain": [
       "'Anna'"
      ]
     },
     "execution_count": 27,
     "metadata": {},
     "output_type": "execute_result"
    }
   ],
   "source": [
    "full_name =\"Anna Andersson\"\n",
    "full_name[0:4]"
   ]
  },
  {
   "cell_type": "code",
   "execution_count": 35,
   "id": "90ae019b-4aa9-4405-aae6-c6b36f9953d3",
   "metadata": {},
   "outputs": [
    {
     "data": {
      "text/plain": [
       "14"
      ]
     },
     "execution_count": 35,
     "metadata": {},
     "output_type": "execute_result"
    }
   ],
   "source": [
    "len(full_name)"
   ]
  },
  {
   "cell_type": "code",
   "execution_count": 47,
   "id": "9fc2fe06-385f-4e94-8c6e-0bd4309fe2a0",
   "metadata": {},
   "outputs": [
    {
     "name": "stdout",
     "output_type": "stream",
     "text": [
      "Hello Guido, Python is really fun to learn!\n",
      "Hello Guido van ROssum, Python is really fun to learn!\n"
     ]
    }
   ],
   "source": [
    "founder = \"Guido\"\n",
    "language = \"Python\"\n",
    "\n",
    "print(f\"Hello {founder}, {language} is really fun to learn!\")\n",
    "\n",
    "founder = \"Guido van ROssum\"\n",
    "\n",
    "print(f\"Hello {founder}, {language} is really fun to learn!\")\n"
   ]
  },
  {
   "cell_type": "code",
   "execution_count": 49,
   "id": "c646b718-29cb-4c89-8d29-46bdcfa55a1b",
   "metadata": {},
   "outputs": [
    {
     "name": "stdout",
     "output_type": "stream",
     "text": [
      "languages\n",
      "apples\n",
      "C\n"
     ]
    }
   ],
   "source": [
    "my_tuple = ('languages', ['Python', 'Java', 'C', 'R'], 'apples')\n",
    "print(my_tuple[0])\n",
    "print(my_tuple[-1])\n",
    "print(my_tuple[1][2])"
   ]
  },
  {
   "cell_type": "code",
   "execution_count": 51,
   "id": "bd87ae4d-fc35-4247-9b75-9562da413e4a",
   "metadata": {},
   "outputs": [
    {
     "data": {
      "text/plain": [
       "tuple"
      ]
     },
     "execution_count": 51,
     "metadata": {},
     "output_type": "execute_result"
    }
   ],
   "source": [
    "type(my_tuple)"
   ]
  },
  {
   "cell_type": "code",
   "execution_count": 53,
   "id": "6dd24286-1188-4364-bba5-d862d60d9741",
   "metadata": {},
   "outputs": [
    {
     "data": {
      "text/plain": [
       "[10, 7, 'hi', 3]"
      ]
     },
     "execution_count": 53,
     "metadata": {},
     "output_type": "execute_result"
    }
   ],
   "source": [
    "my_first_list = [10, 5, 'hi', 3]\n",
    "my_first_list[1] = 7\n",
    "my_first_list"
   ]
  },
  {
   "cell_type": "code",
   "execution_count": 55,
   "id": "d3d1b926-6a8e-4941-a5cd-f259cc5f33c3",
   "metadata": {},
   "outputs": [
    {
     "data": {
      "text/plain": [
       "list"
      ]
     },
     "execution_count": 55,
     "metadata": {},
     "output_type": "execute_result"
    }
   ],
   "source": [
    "type(my_first_list)"
   ]
  },
  {
   "cell_type": "code",
   "execution_count": 57,
   "id": "5754ca1c-6a77-4e61-8b4d-1e0503e7dd6d",
   "metadata": {},
   "outputs": [
    {
     "data": {
      "text/plain": [
       "5"
      ]
     },
     "execution_count": 57,
     "metadata": {},
     "output_type": "execute_result"
    }
   ],
   "source": [
    "shopping_list = ['apple', 'banana', 'grapes', 'egges', 'milk']\n",
    "len(shopping_list)"
   ]
  },
  {
   "cell_type": "code",
   "execution_count": 61,
   "id": "fb923e5d-eccb-40f2-8bd8-5c68c9561418",
   "metadata": {},
   "outputs": [
    {
     "name": "stdout",
     "output_type": "stream",
     "text": [
      "['apple', 'banana', 'grapes', 'egges', 'milk', 'bread', 'bread']\n"
     ]
    }
   ],
   "source": [
    "shopping_list.append('bread')\n",
    "print(shopping_list)"
   ]
  },
  {
   "cell_type": "code",
   "execution_count": 65,
   "id": "1379931b-8ab8-4618-be18-70890b535d00",
   "metadata": {},
   "outputs": [
    {
     "name": "stdout",
     "output_type": "stream",
     "text": [
      "[1, 7, 2, 7, 10, 7]\n"
     ]
    }
   ],
   "source": [
    "my_numbers = [1,7,2,7,10,7]\n",
    "print(my_numbers)"
   ]
  },
  {
   "cell_type": "code",
   "execution_count": 67,
   "id": "f57354e3-176f-4cf2-9a5b-c32838dc7f50",
   "metadata": {},
   "outputs": [
    {
     "data": {
      "text/plain": [
       "3"
      ]
     },
     "execution_count": 67,
     "metadata": {},
     "output_type": "execute_result"
    }
   ],
   "source": [
    "my_numbers.count(7)"
   ]
  },
  {
   "cell_type": "code",
   "execution_count": 77,
   "id": "65a34b0d-303b-4da5-8717-20c31ee6a56d",
   "metadata": {},
   "outputs": [
    {
     "name": "stdout",
     "output_type": "stream",
     "text": [
      "[(10, 5, 3)]\n"
     ]
    },
    {
     "data": {
      "text/plain": [
       "list"
      ]
     },
     "execution_count": 77,
     "metadata": {},
     "output_type": "execute_result"
    }
   ],
   "source": [
    "one_tuple = (10,5,3)\n",
    "my_list = [one_tuple]\n",
    "print(my_list)\n",
    "type(my_list)"
   ]
  },
  {
   "cell_type": "code",
   "execution_count": 79,
   "id": "b9ff1fbe-8f50-4386-8fa7-956fe1439ed5",
   "metadata": {},
   "outputs": [
    {
     "data": {
      "text/plain": [
       "19"
      ]
     },
     "execution_count": 79,
     "metadata": {},
     "output_type": "execute_result"
    }
   ],
   "source": [
    "my_first_dict = {'Anna': 38, 'Goran': 19, 'Lennart':59, 'Halimah': 28}\n",
    "my_first_dict['Goran']\n"
   ]
  },
  {
   "cell_type": "code",
   "execution_count": 81,
   "id": "d73a21ac-a2ae-4dab-b36b-500c8dc74d9d",
   "metadata": {},
   "outputs": [
    {
     "data": {
      "text/plain": [
       "dict"
      ]
     },
     "execution_count": 81,
     "metadata": {},
     "output_type": "execute_result"
    }
   ],
   "source": [
    "type(my_first_dict)"
   ]
  },
  {
   "cell_type": "code",
   "execution_count": 83,
   "id": "03078c7e-ab4f-4dbc-aaff-4895d489b6ed",
   "metadata": {},
   "outputs": [],
   "source": [
    "my_set = {10,5,2,5,5}"
   ]
  },
  {
   "cell_type": "code",
   "execution_count": 85,
   "id": "9a889bd8-c573-41f0-a347-6e9563be19b1",
   "metadata": {},
   "outputs": [
    {
     "name": "stdout",
     "output_type": "stream",
     "text": [
      "{10, 2, 5}\n"
     ]
    }
   ],
   "source": [
    "print(my_set)"
   ]
  },
  {
   "cell_type": "code",
   "execution_count": 97,
   "id": "0cedd4b9-6168-4ea5-8bfb-93c21b0226c7",
   "metadata": {},
   "outputs": [
    {
     "data": {
      "text/plain": [
       "{3, 5}"
      ]
     },
     "execution_count": 97,
     "metadata": {},
     "output_type": "execute_result"
    }
   ],
   "source": [
    "A = {1,2,3,4,5}\n",
    "B = {3,10,5,7}\n",
    "A.intersection(B)"
   ]
  },
  {
   "cell_type": "code",
   "execution_count": 95,
   "id": "af53079b-f1d4-4200-838b-4f79be594de3",
   "metadata": {},
   "outputs": [
    {
     "data": {
      "text/plain": [
       "{1, 2, 3, 4, 5, 7, 10}"
      ]
     },
     "execution_count": 95,
     "metadata": {},
     "output_type": "execute_result"
    }
   ],
   "source": [
    "A.union(B)"
   ]
  },
  {
   "cell_type": "code",
   "execution_count": 99,
   "id": "6eb4b2e7-aa9f-4fb0-b85c-455a46315c75",
   "metadata": {},
   "outputs": [
    {
     "data": {
      "text/plain": [
       "{1, 2, 4}"
      ]
     },
     "execution_count": 99,
     "metadata": {},
     "output_type": "execute_result"
    }
   ],
   "source": [
    "A.difference(B)"
   ]
  },
  {
   "cell_type": "code",
   "execution_count": 133,
   "id": "da6163c9-9d94-4a25-b089-67271e292ec4",
   "metadata": {},
   "outputs": [
    {
     "name": "stdout",
     "output_type": "stream",
     "text": [
      "{5} {1, 2, 3, 4, 5, 6, 10, 21} {1, 2, 3, 4}\n"
     ]
    }
   ],
   "source": [
    "list_a=[1,2,3,4,5]\n",
    "list_b=[5,6,10,21]\n",
    "\n",
    "type(list_a)\n",
    "set(list_a)\n",
    "type(list_a)\n",
    "\n",
    "a_new_set = set(list_a)\n",
    "type(a_new_set)\n",
    "b_new_set = set(list_b)\n",
    "\n",
    "print(a_new_set.intersection(b_new_set), a_new_set.union(b_new_set), a_new_set.difference(b_new_set))"
   ]
  },
  {
   "cell_type": "code",
   "execution_count": 137,
   "id": "c57fe6d4-6e02-4bca-a821-b8a1f2eb220f",
   "metadata": {},
   "outputs": [
    {
     "name": "stdout",
     "output_type": "stream",
     "text": [
      "{1, 10, 2}\n"
     ]
    }
   ],
   "source": [
    "duplicate_values =(10,2,2,10,1)\n",
    "set2 = set(duplicate_values)\n",
    "print(set2)"
   ]
  },
  {
   "cell_type": "code",
   "execution_count": null,
   "id": "590732ba-9eb3-4e11-86bd-35e8e90381b8",
   "metadata": {},
   "outputs": [],
   "source": []
  },
  {
   "cell_type": "markdown",
   "id": "4c357b39",
   "metadata": {},
   "source": [
    "<br>"
   ]
  },
  {
   "cell_type": "markdown",
   "id": "4ae3f35b",
   "metadata": {},
   "source": []
  }
 ],
 "metadata": {
  "kernelspec": {
   "display_name": "Python 3 (ipykernel)",
   "language": "python",
   "name": "python3"
  },
  "language_info": {
   "codemirror_mode": {
    "name": "ipython",
    "version": 3
   },
   "file_extension": ".py",
   "mimetype": "text/x-python",
   "name": "python",
   "nbconvert_exporter": "python",
   "pygments_lexer": "ipython3",
   "version": "3.12.4"
  }
 },
 "nbformat": 4,
 "nbformat_minor": 5
}
