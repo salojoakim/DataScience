{
 "cells": [
  {
   "cell_type": "markdown",
   "metadata": {},
   "source": [
    "Statistik uppgifter\n",
    "101a) 4/6\n",
    "b) 2/6\n",
    "c) det som är kvar efter 4/6 är 2/6 eftersom vi frågar efter < 4 och => 5. Händelsen i B är komplement till A\n",
    "\n",
    "102a)\n",
    "2/3\n",
    "b) det är totala antalet utfall\n",
    "\n",
    "103a)\n",
    "Det finns fyra utfall, 0,0 - 0,1 - 1,0 - 1,1 och två gynnsamma utfall, 2/4"
   ]
  },
  {
   "cell_type": "markdown",
   "metadata": {},
   "source": []
  },
  {
   "cell_type": "code",
   "execution_count": 15,
   "metadata": {},
   "outputs": [
    {
     "name": "stdout",
     "output_type": "stream",
     "text": [
      "0.5137132853530442\n",
      "0.3333333333333333\n",
      "6004799503160661/18014398509481984\n"
     ]
    }
   ],
   "source": [
    "from fractions import Fraction as f\n",
    "\n",
    "\n",
    "#uppgift 106\n",
    "boys = 1056 + 1048 + 1058 + 1061 + 1059\n",
    "girls = 1000 + 1000 + 1000 + 1000 + 1000\n",
    "totalkids = boys + girls\n",
    "print (boys/totalkids)\n",
    "\n",
    "#107\n",
    "\n",
    "probability = 0.25\n",
    "not_happening = 1 - probability\n",
    "odds = probability/not_happening\n",
    "\n",
    "print(odds)\n",
    "print(f(odds))"
   ]
  },
  {
   "cell_type": "markdown",
   "metadata": {},
   "source": [
    " "
   ]
  },
  {
   "cell_type": "code",
   "execution_count": null,
   "metadata": {},
   "outputs": [],
   "source": []
  },
  {
   "cell_type": "code",
   "execution_count": 18,
   "metadata": {},
   "outputs": [
    {
     "name": "stdout",
     "output_type": "stream",
     "text": [
      "Desired outcome occurred 0 times out of 1 rolls.\n"
     ]
    }
   ],
   "source": [
    "\n",
    "def sannolikhet(gA, N):\n",
    "    if not isinstance(gA, int) or not isinstance(N, int):\n",
    "        raise ValueError(\"Values need to be integers\")\n",
    "    else:\n",
    "        prob = gA/N\n",
    "        return prob\n",
    "\n",
    "#sannolikhet(2, 4)\n",
    "\n",
    "import random\n",
    "\n",
    "def sannolikhet_dice(total_attempts, desired_outcome):\n",
    "  \n",
    "    # Simulate rolling the dice `total_attempts` times\n",
    "    rolls = [random.randint(1, 6) for _ in range(total_attempts)]\n",
    "    \n",
    "    # Count how many times the desired outcome occurs\n",
    "    outcome_count = rolls.count(desired_outcome)\n",
    "    \n",
    "    # Return the calculated probability, the number of successful rolls, and the total number of attempts\n",
    "    return outcome_count, total_attempts\n",
    "\n",
    "# Example usage with input:\n",
    "#total_attempts = int(input(\"How many total attempts: \"))\n",
    "#desired_outcome = int(input(\"Desired outcome (e.g., 6 for rolling a 6): \"))\n",
    "\n",
    "\n",
    "# Calling the function\n",
    "#outcome_count, attempts = sannolikhet_dice(total_attempts, desired_outcome)\n",
    "\n",
    "# Output the results\n",
    "#print(f\"Desired outcome occurred {outcome_count} times out of {attempts} attempts.\")\n",
    "\n",
    "\n",
    "def sannolikhet_generator(rolls, desired_outcome):\n",
    "    # Check if rolls is a list and contains valid numeric values\n",
    "    if not isinstance(rolls, list) or not all(isinstance(roll, (int, float)) for roll in rolls):\n",
    "        raise ValueError(\"Rolls must be a list of numbers (integers or floats)\")\n",
    "\n",
    "    # Count how many times the desired outcome occurs\n",
    "    outcome_count = rolls.count(desired_outcome)\n",
    "    \n",
    "    # Return the number of successful outcomes and the total number of rolls\n",
    "    return outcome_count, len(rolls)\n",
    "\n",
    "# Example usage with user input\n",
    "rolls = list(map(float, input(\"Enter your rolls (separated by spaces): \").split()))\n",
    "desired_outcome = float(input(\"Enter the desired outcome: \"))\n",
    "\n",
    "# Call the function\n",
    "outcome_count, total_attempts = sannolikhet_generator(rolls, desired_outcome)\n",
    "\n",
    "# Output the results\n",
    "print(f\"Desired outcome occurred {outcome_count} times out of {total_attempts} rolls.\")\n",
    "\n",
    "\n",
    "\n"
   ]
  },
  {
   "cell_type": "code",
   "execution_count": 19,
   "metadata": {},
   "outputs": [
    {
     "name": "stdout",
     "output_type": "stream",
     "text": [
      "Probability of the desired outcome in a single attempt: 0.5\n",
      "Number of attempts: 100\n"
     ]
    }
   ],
   "source": [
    "def sannolikhet(N, gA, attempts):\n",
    "    # Check if inputs are valid integers or floats\n",
    "    if not (isinstance(N, (int, float)) and isinstance(gA, (int, float)) and isinstance(b, int)):\n",
    "        raise ValueError(\"N and gA must be numbers, and b must be an integer\")\n",
    "\n",
    "    # Check if N and gA are positive and b is non-negative\n",
    "    if N <= 0 or gA < 0 or attempts < 0:\n",
    "        raise ValueError(\"N must be greater than 0, gA and b must be non-negative\")\n",
    "    \n",
    "    # Calculate the probability of a single desired outcome\n",
    "    prob_single_attempt = gA / N\n",
    "    \n",
    "    # Return the probability and the number of attempts\n",
    "    return prob_single_attempt, attempts\n",
    "\n",
    "# Example usage:\n",
    "N = int(input(\"Enter the total number of possible outcomes (N): \"))\n",
    "gA = int(input(\"Enter the number of desired outcomes (gA): \"))\n",
    "b = int(input(\"Enter how many times you attempt the action (b): \"))\n",
    "\n",
    "# Call the function\n",
    "prob, number_attempts = sannolikhet(N, gA, attempts)\n",
    "\n",
    "# Output the results\n",
    "print(f\"Probability of the desired outcome in a single attempt: {prob}\")\n",
    "print(f\"Number of attempts: {number_attempts}\")\n"
   ]
  },
  {
   "cell_type": "code",
   "execution_count": 3,
   "metadata": {},
   "outputs": [
    {
     "name": "stdout",
     "output_type": "stream",
     "text": [
      "Probability of the desired outcome in a single attempt: 0.1111111111111111\n",
      "Random outcomes: [2, 9, 20, 34, 7, 2, 35, 24, 7, 27, 2, 26, 34, 6, 22, 12, 25, 19, 32, 30, 12, 19, 13, 6, 21, 30, 10, 36, 21, 16, 14, 29, 1, 6, 7, 15, 36, 16, 5, 36, 20, 15, 1, 25, 31, 30, 14, 24, 34, 18, 14, 21, 28, 26, 22, 7, 6, 16, 18, 33, 25, 20, 1, 24, 5, 36, 10, 36, 13, 15, 22, 29, 15, 7, 30, 25, 28, 31, 33, 1, 25, 18, 31, 27, 23, 7, 17, 26, 9, 24, 2, 1, 27, 12, 34, 22, 29, 22, 23, 17]\n",
      "Number of successful desired outcomes: 9\n"
     ]
    }
   ],
   "source": [
    "import random\n",
    "\n",
    "def sannolikhet(N, gA, b):\n",
    "    # Check if inputs are valid integers or floats\n",
    "    if not (isinstance(N, (int, float)) and isinstance(gA, (int, float)) and isinstance(b, int)):\n",
    "        raise ValueError(\"N and gA must be numbers, and b must be an integer\")\n",
    "\n",
    "    # Check if N and gA are positive and b is non-negative\n",
    "    if N <= 0 or gA < 0 or b < 0:\n",
    "        raise ValueError(\"N must be greater than 0, gA and b must be non-negative\")\n",
    "    \n",
    "    # Calculate the probability of a single desired outcome\n",
    "    prob_single_attempt = gA / N\n",
    "    \n",
    "    # Random generator based on inputs\n",
    "    # Generate `b` random outcomes, each from 1 to `N`\n",
    "    random_outcomes = [random.randint(1, N) for _ in range(b)]\n",
    "    \n",
    "    # Determine the number of successful desired outcomes\n",
    "    # Assume desired outcomes are between 1 and `gA`\n",
    "    successful_outcomes = sum(1 for outcome in random_outcomes if outcome <= gA)\n",
    "    \n",
    "    # Return the probability, random outcomes, and the number of successful outcomes\n",
    "    return prob_single_attempt, random_outcomes, successful_outcomes\n",
    "\n",
    "# Example usage:\n",
    "N = int(input(\"Enter the total number of possible outcomes (N): \"))\n",
    "gA = int(input(\"Enter the number of desired outcomes (gA): \"))\n",
    "b = int(input(\"Enter how many times you attempt the action (b): \"))\n",
    "\n",
    "# Call the function\n",
    "prob, random_outcomes, successful_outcomes = sannolikhet(N, gA, b)\n",
    "\n",
    "# Output the results\n",
    "print(f\"Probability of the desired outcome in a single attempt: {prob}\")\n",
    "print(f\"Random outcomes: {random_outcomes}\")\n",
    "print(f\"Number of successful desired outcomes: {successful_outcomes}\")\n"
   ]
  },
  {
   "cell_type": "code",
   "execution_count": null,
   "metadata": {},
   "outputs": [],
   "source": []
  }
 ],
 "metadata": {
  "kernelspec": {
   "display_name": "base",
   "language": "python",
   "name": "python3"
  },
  "language_info": {
   "codemirror_mode": {
    "name": "ipython",
    "version": 3
   },
   "file_extension": ".py",
   "mimetype": "text/x-python",
   "name": "python",
   "nbconvert_exporter": "python",
   "pygments_lexer": "ipython3",
   "version": "3.12.4"
  }
 },
 "nbformat": 4,
 "nbformat_minor": 2
}
